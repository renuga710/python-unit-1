{
 "cells": [
  {
   "cell_type": "markdown",
   "id": "ab5c9f53",
   "metadata": {},
   "source": [
    "# 3. write a program to iterate the first 10 numbers and in sum of current and a previous number."
   ]
  },
  {
   "cell_type": "code",
   "execution_count": 1,
   "id": "4543b64e",
   "metadata": {},
   "outputs": [
    {
     "name": "stdout",
     "output_type": "stream",
     "text": [
      "Printing current and previous number and their sum in a range(10)\n",
      "Current Number 1 Previous Number  0  Sum:  1\n",
      "Current Number 2 Previous Number  1  Sum:  3\n",
      "Current Number 3 Previous Number  2  Sum:  5\n",
      "Current Number 4 Previous Number  3  Sum:  7\n",
      "Current Number 5 Previous Number  4  Sum:  9\n",
      "Current Number 6 Previous Number  5  Sum:  11\n",
      "Current Number 7 Previous Number  6  Sum:  13\n",
      "Current Number 8 Previous Number  7  Sum:  15\n",
      "Current Number 9 Previous Number  8  Sum:  17\n",
      "Current Number 10 Previous Number  9  Sum:  19\n"
     ]
    }
   ],
   "source": [
    "print(\"Printing current and previous number and their sum in a range(10)\")\n",
    "previous_num = 0\n",
    "for i in range(1, 11):\n",
    "    x_sum = previous_num + i\n",
    "    print(\"Current Number\", i, \"Previous Number \", previous_num, \" Sum: \", x_sum)\n",
    "    previous_num = i"
   ]
  },
  {
   "cell_type": "markdown",
   "id": "0709c8a0",
   "metadata": {},
   "source": [
    "# 4. Accept a string from the user and display the character that are present at an even index number."
   ]
  },
  {
   "cell_type": "code",
   "execution_count": 2,
   "id": "b0b1badf",
   "metadata": {},
   "outputs": [
    {
     "name": "stdout",
     "output_type": "stream",
     "text": [
      "Enter word programming in python\n",
      "Original String: programming in python\n",
      "Printing only even index chars\n",
      "index[ 0 ] p\n",
      "index[ 2 ] o\n",
      "index[ 4 ] r\n",
      "index[ 6 ] m\n",
      "index[ 8 ] i\n",
      "index[ 10 ] g\n",
      "index[ 12 ] i\n",
      "index[ 14 ]  \n",
      "index[ 16 ] y\n",
      "index[ 18 ] h\n"
     ]
    }
   ],
   "source": [
    "word = input('Enter word ')\n",
    "print(\"Original String:\", word)\n",
    "size = len(word)\n",
    "print(\"Printing only even index chars\")\n",
    "for i in range(0, size - 1, 2):\n",
    "    print(\"index[\", i, \"]\", word[i])"
   ]
  },
  {
   "cell_type": "markdown",
   "id": "e954fa79",
   "metadata": {},
   "source": [
    "# 6.Write a program to find how many times substring “is” appears in the given string."
   ]
  },
  {
   "cell_type": "code",
   "execution_count": 2,
   "id": "e074f56d",
   "metadata": {},
   "outputs": [
    {
     "name": "stdout",
     "output_type": "stream",
     "text": [
      "2\n"
     ]
    }
   ],
   "source": [
    "str_x = \"python is a high level language.it is dynamically typed.\"\n",
    "cnt = str_x.count(\"is\")\n",
    "print(cnt)"
   ]
  },
  {
   "cell_type": "markdown",
   "id": "11982424",
   "metadata": {},
   "source": [
    "# 11. Display three string “Name”, “Is”, “James” as “Name**Is**James”"
   ]
  },
  {
   "cell_type": "code",
   "execution_count": 11,
   "id": "c693bc5f",
   "metadata": {},
   "outputs": [
    {
     "name": "stdout",
     "output_type": "stream",
     "text": [
      "My**Name**Is**James\n"
     ]
    }
   ],
   "source": [
    "print('My', 'Name', 'Is', 'James', sep='**')"
   ]
  },
  {
   "cell_type": "markdown",
   "id": "c5d8f280",
   "metadata": {},
   "source": [
    "# 12. Convert Decimal number to octal and Display float number with 2 decimal places"
   ]
  },
  {
   "cell_type": "code",
   "execution_count": 16,
   "id": "0ce25117",
   "metadata": {},
   "outputs": [
    {
     "name": "stdout",
     "output_type": "stream",
     "text": [
      "decimal to octal:16\n",
      "flot no with 2 decimal no:4569.09\n"
     ]
    }
   ],
   "source": [
    "num = 14\n",
    "print(\"decimal to octal:\"'%o' % num)\n",
    "num = 4569.092344\n",
    "print(\"flot no with 2 decimal no:\"'%.2f' % num)"
   ]
  },
  {
   "cell_type": "markdown",
   "id": "7ebe0963",
   "metadata": {},
   "source": [
    "# 13. Accept a list of 5 float numbers as an input from the user"
   ]
  },
  {
   "cell_type": "code",
   "execution_count": 19,
   "id": "c8cbaa4d",
   "metadata": {},
   "outputs": [
    {
     "name": "stdout",
     "output_type": "stream",
     "text": [
      "Enter number at location 0 :\n",
      "8.9\n",
      "Enter number at location 1 :\n",
      "4.05\n",
      "Enter number at location 2 :\n",
      "1.222\n",
      "Enter number at location 3 :\n",
      "6.000\n",
      "Enter number at location 4 :\n",
      "5.87\n",
      "User List: [8.9, 4.05, 1.222, 6.0, 5.87]\n"
     ]
    }
   ],
   "source": [
    "numbers = []\n",
    "for i in range(0, 5):\n",
    "    print(\"Enter number at location\", i, \":\")\n",
    "    item = float(input())\n",
    "    numbers.append(item)\n",
    "print(\"User List:\", numbers)"
   ]
  },
  {
   "cell_type": "code",
   "execution_count": null,
   "id": "5323fe88",
   "metadata": {},
   "outputs": [],
   "source": []
  }
 ],
 "metadata": {
  "kernelspec": {
   "display_name": "Python 3 (ipykernel)",
   "language": "python",
   "name": "python3"
  },
  "language_info": {
   "codemirror_mode": {
    "name": "ipython",
    "version": 3
   },
   "file_extension": ".py",
   "mimetype": "text/x-python",
   "name": "python",
   "nbconvert_exporter": "python",
   "pygments_lexer": "ipython3",
   "version": "3.10.5"
  }
 },
 "nbformat": 4,
 "nbformat_minor": 5
}
