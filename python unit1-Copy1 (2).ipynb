{
 "cells": [
  {
   "cell_type": "markdown",
   "id": "9e4782a4",
   "metadata": {},
   "source": [
    "# 1. Write a program to remove characters from a string starting from zero up to n and return a\n",
    "new string."
   ]
  },
  {
   "cell_type": "code",
   "execution_count": 61,
   "id": "d10b9e93",
   "metadata": {},
   "outputs": [
    {
     "name": "stdout",
     "output_type": "stream",
     "text": [
      "Initial String python_programming\n",
      "Resultant String n_programming\n"
     ]
    }
   ],
   "source": [
    "ini_string1 = 'python_programming'\n",
    "n = 5\n",
    "print(\"Initial String\", ini_string1)\n",
    "res = ''\n",
    "for i in range(0, len(ini_string1)):\n",
    "\tif i >= n:\n",
    "\t\tres = res + ini_string1[i]\n",
    "print(\"Resultant String\", res)"
   ]
  },
  {
   "cell_type": "markdown",
   "id": "ab5c9f53",
   "metadata": {},
   "source": [
    "# 3. write a program to iterate the first 10 numbers and in sum of current and a previous number."
   ]
  },
  {
   "cell_type": "code",
   "execution_count": 1,
   "id": "4543b64e",
   "metadata": {},
   "outputs": [
    {
     "name": "stdout",
     "output_type": "stream",
     "text": [
      "Printing current and previous number and their sum in a range(10)\n",
      "Current Number 1 Previous Number  0  Sum:  1\n",
      "Current Number 2 Previous Number  1  Sum:  3\n",
      "Current Number 3 Previous Number  2  Sum:  5\n",
      "Current Number 4 Previous Number  3  Sum:  7\n",
      "Current Number 5 Previous Number  4  Sum:  9\n",
      "Current Number 6 Previous Number  5  Sum:  11\n",
      "Current Number 7 Previous Number  6  Sum:  13\n",
      "Current Number 8 Previous Number  7  Sum:  15\n",
      "Current Number 9 Previous Number  8  Sum:  17\n",
      "Current Number 10 Previous Number  9  Sum:  19\n"
     ]
    }
   ],
   "source": [
    "print(\"Printing current and previous number and their sum in a range(10)\")\n",
    "previous_num = 0\n",
    "for i in range(1, 11):\n",
    "    x_sum = previous_num + i\n",
    "    print(\"Current Number\", i, \"Previous Number \", previous_num, \" Sum: \", x_sum)\n",
    "    previous_num = i"
   ]
  },
  {
   "cell_type": "markdown",
   "id": "0709c8a0",
   "metadata": {},
   "source": [
    "# 4. Accept a string from the user and display the character that are present at an even index number."
   ]
  },
  {
   "cell_type": "code",
   "execution_count": 2,
   "id": "b0b1badf",
   "metadata": {},
   "outputs": [
    {
     "name": "stdout",
     "output_type": "stream",
     "text": [
      "Enter word programming in python\n",
      "Original String: programming in python\n",
      "Printing only even index chars\n",
      "index[ 0 ] p\n",
      "index[ 2 ] o\n",
      "index[ 4 ] r\n",
      "index[ 6 ] m\n",
      "index[ 8 ] i\n",
      "index[ 10 ] g\n",
      "index[ 12 ] i\n",
      "index[ 14 ]  \n",
      "index[ 16 ] y\n",
      "index[ 18 ] h\n"
     ]
    }
   ],
   "source": [
    "word = input('Enter word ')\n",
    "print(\"Original String:\", word)\n",
    "size = len(word)\n",
    "print(\"Printing only even index chars\")\n",
    "for i in range(0, size - 1, 2):\n",
    "    print(\"index[\", i, \"]\", word[i])"
   ]
  },
  {
   "cell_type": "markdown",
   "id": "e954fa79",
   "metadata": {},
   "source": [
    "# 6.Write a program to find how many times substring “is” appears in the given string."
   ]
  },
  {
   "cell_type": "code",
   "execution_count": 2,
   "id": "e074f56d",
   "metadata": {},
   "outputs": [
    {
     "name": "stdout",
     "output_type": "stream",
     "text": [
      "2\n"
     ]
    }
   ],
   "source": [
    "str_x = \"python is a high level language.it is dynamically typed.\"\n",
    "cnt = str_x.count(\"is\")\n",
    "print(cnt)"
   ]
  },
  {
   "cell_type": "markdown",
   "id": "d33952d9",
   "metadata": {},
   "source": [
    "# 9. Calculate income tax for the given income by adhering to the below rules."
   ]
  },
  {
   "cell_type": "code",
   "execution_count": 7,
   "id": "586ffbfc",
   "metadata": {},
   "outputs": [
    {
     "name": "stdout",
     "output_type": "stream",
     "text": [
      "Given income 45000\n",
      "Total tax to pay is 6000.0\n"
     ]
    }
   ],
   "source": [
    "income = 45000\n",
    "tax_payable = 0\n",
    "print(\"Given income\", income)\n",
    "if income <= 10000:\n",
    "    tax_payable = 0\n",
    "elif income <= 20000:\n",
    "    # no tax on first 10,000\n",
    "    x = income - 10000\n",
    "    # 10% tax\n",
    "    tax_payable = x * 10 / 100\n",
    "else:\n",
    "    # first 10,000\n",
    "    tax_payable = 0\n",
    "\n",
    "    # next 10,000 10% tax\n",
    "    tax_payable = 10000 * 10 / 100\n",
    "\n",
    "    # remaining 20%tax\n",
    "    tax_payable += (income - 20000) * 20 / 100\n",
    "\n",
    "print(\"Total tax to pay is\", tax_payable)\n"
   ]
  },
  {
   "cell_type": "markdown",
   "id": "8cc87375",
   "metadata": {},
   "source": [
    "# 10. Accept numbers from a user."
   ]
  },
  {
   "cell_type": "code",
   "execution_count": 6,
   "id": "20dbfc75",
   "metadata": {},
   "outputs": [
    {
     "name": "stdout",
     "output_type": "stream",
     "text": [
      "Enter first number 34\n",
      "Enter second number 54\n",
      "Multiplication is 1836\n"
     ]
    }
   ],
   "source": [
    "num1 = int(input(\"Enter first number \"))\n",
    "num2 = int(input(\"Enter second number \"))\n",
    "res = num1 * num2\n",
    "print(\"Multiplication is\", res)"
   ]
  },
  {
   "cell_type": "markdown",
   "id": "11982424",
   "metadata": {},
   "source": [
    "# 11. Display three string “Name”, “Is”, “James” as “Name**Is**James”"
   ]
  },
  {
   "cell_type": "code",
   "execution_count": 11,
   "id": "c693bc5f",
   "metadata": {},
   "outputs": [
    {
     "name": "stdout",
     "output_type": "stream",
     "text": [
      "My**Name**Is**James\n"
     ]
    }
   ],
   "source": [
    "print('My', 'Name', 'Is', 'James', sep='**')"
   ]
  },
  {
   "cell_type": "markdown",
   "id": "c5d8f280",
   "metadata": {},
   "source": [
    "# 12. Convert Decimal number to octal and Display float number with 2 decimal places"
   ]
  },
  {
   "cell_type": "code",
   "execution_count": 16,
   "id": "0ce25117",
   "metadata": {},
   "outputs": [
    {
     "name": "stdout",
     "output_type": "stream",
     "text": [
      "decimal to octal:16\n",
      "flot no with 2 decimal no:4569.09\n"
     ]
    }
   ],
   "source": [
    "num = 14\n",
    "print(\"decimal to octal:\"'%o' % num)\n",
    "num = 4569.092344\n",
    "print(\"flot no with 2 decimal no:\"'%.2f' % num)"
   ]
  },
  {
   "cell_type": "markdown",
   "id": "7ebe0963",
   "metadata": {},
   "source": [
    "# 13. Accept a list of 5 float numbers as an input from the user"
   ]
  },
  {
   "cell_type": "code",
   "execution_count": 19,
   "id": "c8cbaa4d",
   "metadata": {},
   "outputs": [
    {
     "name": "stdout",
     "output_type": "stream",
     "text": [
      "Enter number at location 0 :\n",
      "8.9\n",
      "Enter number at location 1 :\n",
      "4.05\n",
      "Enter number at location 2 :\n",
      "1.222\n",
      "Enter number at location 3 :\n",
      "6.000\n",
      "Enter number at location 4 :\n",
      "5.87\n",
      "User List: [8.9, 4.05, 1.222, 6.0, 5.87]\n"
     ]
    }
   ],
   "source": [
    "numbers = []\n",
    "for i in range(0, 5):\n",
    "    print(\"Enter number at location\", i, \":\")\n",
    "    item = float(input())\n",
    "    numbers.append(item)\n",
    "print(\"User List:\", numbers)"
   ]
  },
  {
   "cell_type": "markdown",
   "id": "24c8bb16",
   "metadata": {},
   "source": [
    "# 14. Accept any three string from one input() call"
   ]
  },
  {
   "cell_type": "code",
   "execution_count": 8,
   "id": "c1da3d81",
   "metadata": {},
   "outputs": [
    {
     "name": "stdout",
     "output_type": "stream",
     "text": [
      "Enter three stringpython programming BCA\n",
      "Name1: python\n",
      "Name2: programming\n",
      "Name3: BCA\n"
     ]
    }
   ],
   "source": [
    "str1, str2, str3 = input(\"Enter three string\").split()\n",
    "print('Name1:', str1)\n",
    "print('Name2:', str2)\n",
    "print('Name3:', str3)"
   ]
  },
  {
   "cell_type": "markdown",
   "id": "2fbe7a27",
   "metadata": {},
   "source": [
    "# 15. Format variables using a string.format() method."
   ]
  },
  {
   "cell_type": "code",
   "execution_count": 3,
   "id": "5323fe88",
   "metadata": {},
   "outputs": [
    {
     "name": "stdout",
     "output_type": "stream",
     "text": [
      "I have 250 rupees so I can buy 500 chocholate for 35.00 dollars.\n"
     ]
    }
   ],
   "source": [
    "quantity = 500\n",
    "totalMoney = 250\n",
    "price = 35\n",
    "statement1 = \"I have {1} rupees so I can buy {0} chocholate for {2:.2f} dollars.\"\n",
    "print(statement1.format(quantity, totalMoney, price))\n"
   ]
  },
  {
   "cell_type": "markdown",
   "id": "9a06da05",
   "metadata": {},
   "source": [
    "# 17. Display numbers from a list using loop."
   ]
  },
  {
   "cell_type": "code",
   "execution_count": 10,
   "id": "4cdbc682",
   "metadata": {},
   "outputs": [
    {
     "name": "stdout",
     "output_type": "stream",
     "text": [
      "apple\n",
      "banana\n",
      "cherry\n"
     ]
    }
   ],
   "source": [
    "thislist = [\"apple\", \"banana\", \"cherry\"]\n",
    "for i in range(len(thislist)):\n",
    "  print(thislist[i])"
   ]
  },
  {
   "cell_type": "markdown",
   "id": "5a60245b",
   "metadata": {},
   "source": [
    "# 18.Print list in reverse order using a loop"
   ]
  },
  {
   "cell_type": "code",
   "execution_count": 6,
   "id": "52cb88ae",
   "metadata": {},
   "outputs": [
    {
     "name": "stdout",
     "output_type": "stream",
     "text": [
      "List before reverse :  [12, 52, 73, 41, 50]\n",
      "List after reverse :  [50, 41, 73, 52, 12]\n"
     ]
    }
   ],
   "source": [
    "original_list = [12,52,73,41,50]\n",
    "print(\"List before reverse : \",original_list)\n",
    "original_list.reverse()\n",
    "print(\"List after reverse : \",original_list)"
   ]
  },
  {
   "cell_type": "markdown",
   "id": "3b3f9209",
   "metadata": {},
   "source": [
    "# 19. Count the total number of digits in a number"
   ]
  },
  {
   "cell_type": "code",
   "execution_count": 11,
   "id": "85085e15",
   "metadata": {},
   "outputs": [
    {
     "name": "stdout",
     "output_type": "stream",
     "text": [
      "Total digits are: 13\n"
     ]
    }
   ],
   "source": [
    "num = 7586934561122\n",
    "count = 0\n",
    "while num != 0:\n",
    "    num = num // 10\n",
    "    count = count + 1\n",
    "print(\"Total digits are:\", count)"
   ]
  },
  {
   "cell_type": "markdown",
   "id": "302e2fef",
   "metadata": {},
   "source": [
    "# 20. Display numbers from -10 to -1 using for loop"
   ]
  },
  {
   "cell_type": "code",
   "execution_count": 13,
   "id": "dd8765a8",
   "metadata": {},
   "outputs": [
    {
     "name": "stdout",
     "output_type": "stream",
     "text": [
      "-10\n",
      "-9\n",
      "-8\n",
      "-7\n",
      "-6\n",
      "-5\n",
      "-4\n",
      "-3\n",
      "-2\n",
      "-1\n"
     ]
    }
   ],
   "source": [
    "for num in range(-10, 0, 1):\n",
    "    print(num)"
   ]
  },
  {
   "cell_type": "markdown",
   "id": "20f3c373",
   "metadata": {},
   "source": [
    "# 21. Use else block to display a message “Done” after successful execution of for loop"
   ]
  },
  {
   "cell_type": "code",
   "execution_count": 14,
   "id": "77fcdb75",
   "metadata": {},
   "outputs": [
    {
     "name": "stdout",
     "output_type": "stream",
     "text": [
      "0\n",
      "1\n",
      "2\n",
      "3\n",
      "4\n",
      "Done!\n"
     ]
    }
   ],
   "source": [
    "for i in range(5):\n",
    "    print(i)\n",
    "else:\n",
    "    print(\"Done!\")"
   ]
  },
  {
   "cell_type": "markdown",
   "id": "d576aedb",
   "metadata": {},
   "source": [
    "# 22. Use a loop to display elements from a given list present at odd index positions"
   ]
  },
  {
   "cell_type": "code",
   "execution_count": 14,
   "id": "a105ff61",
   "metadata": {},
   "outputs": [
    {
     "name": "stdout",
     "output_type": "stream",
     "text": [
      "Elements of given array present on odd position: \n",
      "9\n",
      "12\n",
      "55\n",
      "93\n"
     ]
    }
   ],
   "source": [
    "arr = [9, 10, 12, 47, 55, 334,93,100];          \n",
    "print(\"Elements of given array present on odd position: \");        \n",
    "for i in range(0, len(arr), 2):    \n",
    "    print(arr[i]);     "
   ]
  },
  {
   "cell_type": "markdown",
   "id": "334c2975",
   "metadata": {},
   "source": [
    "# 23. Append new string in the middle of a given string"
   ]
  },
  {
   "cell_type": "code",
   "execution_count": 16,
   "id": "fe73e799",
   "metadata": {},
   "outputs": [
    {
     "name": "stdout",
     "output_type": "stream",
     "text": [
      "python\n",
      "programming\n",
      "pytprogramminghon\n"
     ]
    }
   ],
   "source": [
    "a=input()\n",
    "b=input()\n",
    "mid=len(a)//2\n",
    "x=a[:mid]+b+a[mid:]\n",
    "print(x)"
   ]
  },
  {
   "cell_type": "markdown",
   "id": "ab02df85",
   "metadata": {},
   "source": [
    "# 24. Arrange string characters such that lowercase letters should come first"
   ]
  },
  {
   "cell_type": "code",
   "execution_count": 17,
   "id": "1913bddd",
   "metadata": {},
   "outputs": [
    {
     "name": "stdout",
     "output_type": "stream",
     "text": [
      "jupyter\n",
      "yutrpje\n"
     ]
    }
   ],
   "source": [
    "a=input()\n",
    "s=\"\".join(sorted(a))\n",
    "print(s[::-1])"
   ]
  },
  {
   "cell_type": "markdown",
   "id": "feb9f1ef",
   "metadata": {},
   "source": [
    "# 25. Count all letters, digits, and special symbols from a given string"
   ]
  },
  {
   "cell_type": "code",
   "execution_count": 18,
   "id": "c3521cbc",
   "metadata": {},
   "outputs": [
    {
     "name": "stdout",
     "output_type": "stream",
     "text": [
      "Enter a String : jupyter notebook@38\n",
      "alphabets = 15 digits = 2 specialChars = 2\n"
     ]
    }
   ],
   "source": [
    "string = input(\"Enter a String : \")\n",
    "alphabets=0\n",
    "digits=0\n",
    "specialChars=0\n",
    "for i in string: \n",
    "    \t\tif i.isalpha():\n",
    "       \t\t\t alphabets+=1\n",
    "    \t\telif i.isdigit():\n",
    "        \t\t\tdigits+=1\n",
    "        \t\t\tspecialChars+=1\n",
    "print(\"alphabets =\",alphabets,\"digits =\",digits,\"specialChars =\",specialChars)"
   ]
  },
  {
   "cell_type": "markdown",
   "id": "58b39799",
   "metadata": {},
   "source": [
    "# 26. Find all occurrences of a substring in a given string by ignoring the case"
   ]
  },
  {
   "cell_type": "code",
   "execution_count": 21,
   "id": "7bcf6ec7",
   "metadata": {},
   "outputs": [
    {
     "name": "stdout",
     "output_type": "stream",
     "text": [
      "The USA count is: 2\n"
     ]
    }
   ],
   "source": [
    "str1 = \"Welcome to USA. usa awesome, isn't it?\"\n",
    "sub_string = \"USA\"\n",
    "temp_str = str1.lower()\n",
    "count = temp_str.count(sub_string.lower())\n",
    "print(\"The USA count is:\", count)\n"
   ]
  },
  {
   "cell_type": "markdown",
   "id": "3c4f856f",
   "metadata": {},
   "source": [
    "# 27. Write a program to count occurrences of all characters within a string"
   ]
  },
  {
   "cell_type": "code",
   "execution_count": 26,
   "id": "5540e6aa",
   "metadata": {},
   "outputs": [
    {
     "name": "stdout",
     "output_type": "stream",
     "text": [
      "Result: {'r': 1, 'e': 2, 'n': 1, 'u': 1, 'g': 1, 'a': 1, 'd': 1, 'v': 1, 'i': 1}\n"
     ]
    }
   ],
   "source": [
    "str1 = \"renugadevi\"\n",
    "char_dict = dict()\n",
    "for char in str1:\n",
    "    count = str1.count(char)\n",
    "    char_dict[char] = count\n",
    "print('Result:', char_dict)\n"
   ]
  },
  {
   "cell_type": "markdown",
   "id": "ba2652e8",
   "metadata": {},
   "source": [
    "# 28. Reverse a list in Python"
   ]
  },
  {
   "cell_type": "code",
   "execution_count": 27,
   "id": "3715575e",
   "metadata": {},
   "outputs": [
    {
     "name": "stdout",
     "output_type": "stream",
     "text": [
      "[600, 490, 360, 250, 156]\n"
     ]
    }
   ],
   "source": [
    "list1 = [156, 250, 360, 490, 600]\n",
    "list1.reverse()\n",
    "print(list1)"
   ]
  },
  {
   "cell_type": "markdown",
   "id": "65153050",
   "metadata": {},
   "source": [
    "# 29. Concatenate two lists index-wise"
   ]
  },
  {
   "cell_type": "code",
   "execution_count": 29,
   "id": "57116116",
   "metadata": {},
   "outputs": [
    {
     "name": "stdout",
     "output_type": "stream",
     "text": [
      "['python', 'unit', 'one']\n"
     ]
    }
   ],
   "source": [
    "list1 = [\"pyt\", \"un\", \"on\"] \n",
    "list2 = [\"hon\", \"it\", \"e\"]\n",
    "list3 = [i + j for i, j in zip(list1, list2)]\n",
    "print(list3)"
   ]
  },
  {
   "cell_type": "markdown",
   "id": "1abf1aa7",
   "metadata": {},
   "source": [
    "# 30. Turn every item of a list into its square"
   ]
  },
  {
   "cell_type": "code",
   "execution_count": 31,
   "id": "3d1d13af",
   "metadata": {},
   "outputs": [
    {
     "name": "stdout",
     "output_type": "stream",
     "text": [
      "[25, 100, 169, 2025, 625, 36, 400]\n"
     ]
    }
   ],
   "source": [
    "numbers = [5, 10, 13, 45, 25, 6, 20]\n",
    "res = []\n",
    "for i in numbers:\n",
    "    res.append(i * i)\n",
    "print(res)"
   ]
  },
  {
   "cell_type": "markdown",
   "id": "766ee65f",
   "metadata": {},
   "source": [
    "# 31. Iterate two lists simultaneously"
   ]
  },
  {
   "cell_type": "code",
   "execution_count": 34,
   "id": "583700fc",
   "metadata": {},
   "outputs": [
    {
     "name": "stdout",
     "output_type": "stream",
     "text": [
      "150 400\n",
      "250 3000\n",
      "350 2000\n",
      "450 1000\n"
     ]
    }
   ],
   "source": [
    "list1 = [150, 250, 350, 450]\n",
    "list2 = [1000, 2000, 3000, 400]\n",
    "for x, y in zip(list1, list2[::-1]):\n",
    "    print(x, y)"
   ]
  },
  {
   "cell_type": "markdown",
   "id": "49ad009b",
   "metadata": {},
   "source": [
    "# 32. Remove empty strings from the list of strings"
   ]
  },
  {
   "cell_type": "code",
   "execution_count": 36,
   "id": "3d945e84",
   "metadata": {},
   "outputs": [
    {
     "name": "stdout",
     "output_type": "stream",
     "text": [
      "['programming', 'in', 'python']\n"
     ]
    }
   ],
   "source": [
    "list1 = [\"programming\", \"\", \"in\", \"python\"]\n",
    "res = list(filter(None, list1))\n",
    "print(res)\n"
   ]
  },
  {
   "cell_type": "markdown",
   "id": "3070351c",
   "metadata": {},
   "source": [
    "# 33. Add new item to list after a specified item"
   ]
  },
  {
   "cell_type": "code",
   "execution_count": 37,
   "id": "bd725bf0",
   "metadata": {},
   "outputs": [
    {
     "name": "stdout",
     "output_type": "stream",
     "text": [
      "[10, 20, [300, 400, [5000, 6000, 7000], 500], 30, 40]\n"
     ]
    }
   ],
   "source": [
    "list1 = [10, 20, [300, 400, [5000, 6000], 500], 30, 40]\n",
    "list1[2][2].append(7000)\n",
    "print(list1)"
   ]
  },
  {
   "cell_type": "markdown",
   "id": "97a73781",
   "metadata": {},
   "source": [
    "# 34. Extend nested list by adding the sublist"
   ]
  },
  {
   "cell_type": "code",
   "execution_count": 38,
   "id": "eb5dc6da",
   "metadata": {},
   "outputs": [
    {
     "name": "stdout",
     "output_type": "stream",
     "text": [
      "['a', 'b', ['c', ['d', 'e', ['f', 'g', 'h', 'i', 'j'], 'k'], 'l'], 'm', 'n']\n"
     ]
    }
   ],
   "source": [
    "list1 = [\"a\", \"b\", [\"c\", [\"d\", \"e\", [\"f\", \"g\"], \"k\"], \"l\"], \"m\", \"n\"]\n",
    "sub_list = [\"h\", \"i\", \"j\"]\n",
    "list1[2][1][2].extend(sub_list)\n",
    "print(list1)"
   ]
  },
  {
   "cell_type": "markdown",
   "id": "6f33e29a",
   "metadata": {},
   "source": [
    "# 35. Replace list’s item with new value if found"
   ]
  },
  {
   "cell_type": "code",
   "execution_count": null,
   "id": "c984fa3f",
   "metadata": {},
   "outputs": [],
   "source": [
    "list1 = [5, 10, 15, 20, 25, 50, 20]\n",
    "index = list1.index(20)\n",
    "list1[index] = 200\n",
    "print(list1)"
   ]
  },
  {
   "cell_type": "markdown",
   "id": "d62b2f92",
   "metadata": {},
   "source": [
    "# 36. Remove all occurrences of a specific item from a list."
   ]
  },
  {
   "cell_type": "code",
   "execution_count": 39,
   "id": "146f1785",
   "metadata": {},
   "outputs": [
    {
     "name": "stdout",
     "output_type": "stream",
     "text": [
      "[5, 15, 25, 50]\n"
     ]
    }
   ],
   "source": [
    "list1 = [5, 20, 15, 20, 25, 50, 20]\n",
    "while 20 in list1:\n",
    "    list1.remove(20)\n",
    "print(list1)"
   ]
  },
  {
   "cell_type": "markdown",
   "id": "313c988b",
   "metadata": {},
   "source": [
    "# 37. Convert two lists into a dictionary"
   ]
  },
  {
   "cell_type": "code",
   "execution_count": 40,
   "id": "153c2559",
   "metadata": {},
   "outputs": [
    {
     "name": "stdout",
     "output_type": "stream",
     "text": [
      "{'Ten': 10, 'Twenty': 20, 'Thirty': 30}\n"
     ]
    }
   ],
   "source": [
    "keys = ['Ten', 'Twenty', 'Thirty']\n",
    "values = [10, 20, 30]\n",
    "res_dict = dict(zip(keys, values))\n",
    "print(res_dict)"
   ]
  },
  {
   "cell_type": "markdown",
   "id": "9116b4f0",
   "metadata": {},
   "source": [
    "# 38. Merge two Python dictionaries into one"
   ]
  },
  {
   "cell_type": "code",
   "execution_count": 2,
   "id": "2aa031d7",
   "metadata": {},
   "outputs": [
    {
     "name": "stdout",
     "output_type": "stream",
     "text": [
      "{'renu': 1, 'kousi': 2, 'vaishu': 3, 'harsha': 4, 'lavanya': 5}\n"
     ]
    }
   ],
   "source": [
    "dict1 = {'renu': 1, 'kousi': 2, 'vaishu': 3}\n",
    "dict2 = {'vaishu': 3, 'harsha': 4, 'lavanya': 5}\n",
    "dict3 = {**dict1, **dict2}\n",
    "print(dict3)"
   ]
  },
  {
   "cell_type": "markdown",
   "id": "398948b1",
   "metadata": {},
   "source": [
    "# 39. Print the value of key ‘history’ from the below dict"
   ]
  },
  {
   "cell_type": "code",
   "execution_count": 5,
   "id": "7b035bd2",
   "metadata": {},
   "outputs": [
    {
     "name": "stdout",
     "output_type": "stream",
     "text": [
      "96\n"
     ]
    }
   ],
   "source": [
    "sampleDict = {\n",
    "    \"class\": {\n",
    "        \"student\": {\n",
    "            \"name\": \"RENU\",\n",
    "            \"marks\": {\n",
    "                \"physics\": 89,\n",
    "                \"history\": 96\n",
    "            }\n",
    "        }\n",
    "    }\n",
    "}\n",
    "print(sampleDict['class']['student']['marks']['history'])\n"
   ]
  },
  {
   "cell_type": "markdown",
   "id": "8cc003b5",
   "metadata": {},
   "source": [
    "# 40. Initialize dictionary with default values"
   ]
  },
  {
   "cell_type": "code",
   "execution_count": 8,
   "id": "c3e673b3",
   "metadata": {},
   "outputs": [
    {
     "name": "stdout",
     "output_type": "stream",
     "text": [
      "{'rekha': {'designation': 'Developer', 'salary': 8700}, 'sowmi': {'designation': 'Developer', 'salary': 8700}}\n",
      "{'designation': 'Developer', 'salary': 8700}\n"
     ]
    }
   ],
   "source": [
    "employees = ['rekha', 'sowmi']\n",
    "defaults = {\"designation\": 'Developer', \"salary\": 8700}\n",
    "res = dict.fromkeys(employees, defaults)\n",
    "print(res)\n",
    "print(res[\"rekha\"])"
   ]
  },
  {
   "cell_type": "markdown",
   "id": "f5bae4bd",
   "metadata": {},
   "source": [
    "# 41. Create a dictionary by extracting the keys from a given dictionary"
   ]
  },
  {
   "cell_type": "code",
   "execution_count": 9,
   "id": "44e8da10",
   "metadata": {},
   "outputs": [
    {
     "name": "stdout",
     "output_type": "stream",
     "text": [
      "{'name': 'Kevin', 'salary': 8000}\n"
     ]
    }
   ],
   "source": [
    "sampleDict = { \n",
    "  \"name\": \"Kevin\",\n",
    "  \"age\":25, \n",
    "  \"salary\": 8000, \n",
    "  \"city\": \"New york\" }\n",
    "keys = [\"name\", \"salary\"]\n",
    "newDict = {k: sampleDict[k] for k in keys}\n",
    "print(newDict)"
   ]
  },
  {
   "cell_type": "markdown",
   "id": "60706220",
   "metadata": {},
   "source": [
    "# 42. Delete a list of keys from a dictionary"
   ]
  },
  {
   "cell_type": "code",
   "execution_count": 13,
   "id": "ed415ae6",
   "metadata": {},
   "outputs": [
    {
     "name": "stdout",
     "output_type": "stream",
     "text": [
      "{'age': 29, 'city': 'chennai'}\n"
     ]
    }
   ],
   "source": [
    "sample_dict = {\n",
    "    \"name\": \"sumi\",\n",
    "    \"age\": 29,\n",
    "    \"salary\": 10000,\n",
    "    \"city\": \"chennai\"\n",
    "}\n",
    "keys = [\"name\", \"salary\"]\n",
    "\n",
    "for k in keys:\n",
    "    sample_dict.pop(k)\n",
    "print(sample_dict)"
   ]
  },
  {
   "cell_type": "markdown",
   "id": "a6b9e1d7",
   "metadata": {},
   "source": [
    "\n",
    "# 43. Check if a value exists in a dictionary"
   ]
  },
  {
   "cell_type": "code",
   "execution_count": 14,
   "id": "bc954190",
   "metadata": {},
   "outputs": [
    {
     "name": "stdout",
     "output_type": "stream",
     "text": [
      "200 present in a dict\n"
     ]
    }
   ],
   "source": [
    "sample_dict = {'a': 100, 'b': 200, 'c': 300}\n",
    "if 200 in sample_dict.values():\n",
    "    print('200 present in a dict')"
   ]
  },
  {
   "cell_type": "markdown",
   "id": "002636f6",
   "metadata": {},
   "source": [
    "\n",
    "# 44. Rename key of a dictionary"
   ]
  },
  {
   "cell_type": "code",
   "execution_count": 15,
   "id": "a5d97758",
   "metadata": {},
   "outputs": [
    {
     "name": "stdout",
     "output_type": "stream",
     "text": [
      "{'name': 'kousalya', 'age': 28, 'salary': 9500, 'location': 'Tiruvannamalai'}\n"
     ]
    }
   ],
   "source": [
    "sample_dict = {\n",
    "    \"name\": \"kousalya\",\n",
    "    \"age\": 28,\n",
    "    \"salary\": 9500,\n",
    "    \"city\": \"Tiruvannamalai\"\n",
    "}\n",
    "sample_dict['location'] = sample_dict.pop('city')\n",
    "print(sample_dict)"
   ]
  },
  {
   "cell_type": "markdown",
   "id": "a4005eb0",
   "metadata": {},
   "source": [
    "# 45. Get the key of a minimum value from the following dictionary"
   ]
  },
  {
   "cell_type": "code",
   "execution_count": 17,
   "id": "c9a28c92",
   "metadata": {},
   "outputs": [
    {
     "name": "stdout",
     "output_type": "stream",
     "text": [
      "Math\n"
     ]
    }
   ],
   "source": [
    "sample_dict = {\n",
    "    'Physics': 80,\n",
    "    'Math': 59,\n",
    "    'history': 62\n",
    "}\n",
    "print(min(sample_dict, key=sample_dict.get))"
   ]
  },
  {
   "cell_type": "markdown",
   "id": "ae27dd2c",
   "metadata": {},
   "source": [
    "# 46. Change value of a key in a nested dictionary"
   ]
  },
  {
   "cell_type": "code",
   "execution_count": 19,
   "id": "6cd54cd1",
   "metadata": {},
   "outputs": [
    {
     "name": "stdout",
     "output_type": "stream",
     "text": [
      "{'emp1': {'name': 'Joni', 'salary': 6500}, 'emp2': {'name': 'elakkiya', 'salary': 8300}, 'emp3': {'name': 'sushmi', 'salary': 8500}}\n"
     ]
    }
   ],
   "source": [
    "sample_dict = {\n",
    "    'emp1': {'name': 'Joni', 'salary': 6500},\n",
    "    'emp2': {'name': 'elakkiya', 'salary': 8300},\n",
    "    'emp3': {'name': 'sushmi', 'salary': 7500}\n",
    "}\n",
    "sample_dict['emp3']['salary'] = 8500\n",
    "print(sample_dict)"
   ]
  },
  {
   "cell_type": "markdown",
   "id": "b706d6ed",
   "metadata": {},
   "source": [
    "# 47. Reverse the tuple"
   ]
  },
  {
   "cell_type": "code",
   "execution_count": 20,
   "id": "9f34f3d7",
   "metadata": {},
   "outputs": [
    {
     "name": "stdout",
     "output_type": "stream",
     "text": [
      "(55, 45, 35, 25, 15)\n"
     ]
    }
   ],
   "source": [
    "tuple1 = (15, 25, 35, 45, 55)\n",
    "tuple1 = tuple1[::-1]\n",
    "print(tuple1)"
   ]
  },
  {
   "cell_type": "markdown",
   "id": "15dce5b8",
   "metadata": {},
   "source": [
    "# 48. Access value 20 from the tuple"
   ]
  },
  {
   "cell_type": "code",
   "execution_count": 23,
   "id": "1ea5ddb0",
   "metadata": {},
   "outputs": [
    {
     "name": "stdout",
     "output_type": "stream",
     "text": [
      "25\n"
     ]
    }
   ],
   "source": [
    "tuple1 = (\"Orange\", [10, 20, 30], (5, 15, 25))\n",
    "print(tuple1[2][2])"
   ]
  },
  {
   "cell_type": "markdown",
   "id": "ba0dd7ac",
   "metadata": {},
   "source": [
    "# 49. Create a tuple with single item 50"
   ]
  },
  {
   "cell_type": "code",
   "execution_count": 26,
   "id": "edda68dd",
   "metadata": {},
   "outputs": [
    {
     "name": "stdout",
     "output_type": "stream",
     "text": [
      "(50,)\n"
     ]
    }
   ],
   "source": [
    "tuple1= (50, )\n",
    "print(tuple1)"
   ]
  },
  {
   "cell_type": "markdown",
   "id": "93b4042c",
   "metadata": {},
   "source": [
    "# 50. Unpack the tuple into 4 variables"
   ]
  },
  {
   "cell_type": "code",
   "execution_count": 28,
   "id": "216eb781",
   "metadata": {},
   "outputs": [
    {
     "name": "stdout",
     "output_type": "stream",
     "text": [
      "150\n",
      "250\n",
      "350\n",
      "450\n"
     ]
    }
   ],
   "source": [
    "tuple1 = (150, 250, 350, 450)\n",
    "a, b, c, d = tuple1\n",
    "print(a)\n",
    "print(b)\n",
    "print(c)\n",
    "print(d)"
   ]
  },
  {
   "cell_type": "markdown",
   "id": "f5c82573",
   "metadata": {},
   "source": [
    "# 51. Swap two tuples in Python"
   ]
  },
  {
   "cell_type": "code",
   "execution_count": 29,
   "id": "9f87fee9",
   "metadata": {},
   "outputs": [
    {
     "name": "stdout",
     "output_type": "stream",
     "text": [
      "(11, 22)\n",
      "(99, 88)\n"
     ]
    }
   ],
   "source": [
    "tuple1 = (11, 22)\n",
    "tuple2 = (99, 88)\n",
    "tuple1, tuple2 = tuple2, tuple1\n",
    "print(tuple2)\n",
    "print(tuple1)"
   ]
  },
  {
   "cell_type": "markdown",
   "id": "b5ff42c1",
   "metadata": {},
   "source": [
    "# 52. Copy specific elements from one tuple to a new tuple"
   ]
  },
  {
   "cell_type": "code",
   "execution_count": 32,
   "id": "4b39ff71",
   "metadata": {},
   "outputs": [
    {
     "name": "stdout",
     "output_type": "stream",
     "text": [
      "(33, 44, 55)\n"
     ]
    }
   ],
   "source": [
    "tuple1 = (11, 22, 33, 44, 55, 66)\n",
    "tuple2 = tuple1[2:-1]\n",
    "print(tuple2)"
   ]
  },
  {
   "cell_type": "markdown",
   "id": "35acd046",
   "metadata": {},
   "source": [
    "# 53. Modify the tuple"
   ]
  },
  {
   "cell_type": "code",
   "execution_count": 33,
   "id": "6f9dd87b",
   "metadata": {},
   "outputs": [
    {
     "name": "stdout",
     "output_type": "stream",
     "text": [
      "(11, [222, 33], 44, 55)\n"
     ]
    }
   ],
   "source": [
    "tuple1 = (11, [22, 33], 44, 55)\n",
    "tuple1[1][0] = 222\n",
    "print(tuple1)"
   ]
  },
  {
   "cell_type": "markdown",
   "id": "55f24cb3",
   "metadata": {},
   "source": [
    "# 54. Sort a tuple of tuples by 2nd item"
   ]
  },
  {
   "cell_type": "code",
   "execution_count": 36,
   "id": "16375704",
   "metadata": {},
   "outputs": [
    {
     "name": "stdout",
     "output_type": "stream",
     "text": [
      "(('c', 15), ('a', 30), ('b', 39), ('d', 59))\n"
     ]
    }
   ],
   "source": [
    "tuple1 = (('a', 30), ('b', 39), ('c', 15), ('d', 59))\n",
    "tuple1 = tuple(sorted(list(tuple1), key=lambda x: x[1]))\n",
    "print(tuple1)"
   ]
  },
  {
   "cell_type": "markdown",
   "id": "6f5dd5e7",
   "metadata": {},
   "source": [
    "# 55. Counts the number of occurrences of item 50 from a tuple"
   ]
  },
  {
   "cell_type": "code",
   "execution_count": 38,
   "id": "59e62172",
   "metadata": {},
   "outputs": [
    {
     "name": "stdout",
     "output_type": "stream",
     "text": [
      "3\n"
     ]
    }
   ],
   "source": [
    "tuple1 = (50, 10,50, 70, 50,60)\n",
    "print(tuple1.count(50))"
   ]
  },
  {
   "cell_type": "markdown",
   "id": "ed6f157a",
   "metadata": {},
   "source": [
    "# 56. Check if all items in the tuple are the same"
   ]
  },
  {
   "cell_type": "code",
   "execution_count": 42,
   "id": "a28b3c08",
   "metadata": {},
   "outputs": [
    {
     "name": "stdout",
     "output_type": "stream",
     "text": [
      "False\n"
     ]
    }
   ],
   "source": [
    "def check(t):\n",
    "    return all(i == t[0] for i in t)\n",
    "tuple1 = (5, 50, 5, 5)\n",
    "print(check(tuple1))"
   ]
  },
  {
   "cell_type": "markdown",
   "id": "1f4a7012",
   "metadata": {},
   "source": [
    "# 57. Add a list of elements to a set"
   ]
  },
  {
   "cell_type": "code",
   "execution_count": 43,
   "id": "dc8b0ff4",
   "metadata": {},
   "outputs": [
    {
     "name": "stdout",
     "output_type": "stream",
     "text": [
      "{'Yellow', 'Green', 'Red', 'Black', 'Orange', 'Blue'}\n"
     ]
    }
   ],
   "source": [
    "sample_set = {\"Yellow\", \"Orange\", \"Black\"}\n",
    "sample_list = [\"Blue\", \"Green\", \"Red\"]\n",
    "sample_set.update(sample_list)\n",
    "print(sample_set)"
   ]
  },
  {
   "cell_type": "markdown",
   "id": "b85cc76b",
   "metadata": {},
   "source": [
    "# 58. Return a new set of identical items from two sets"
   ]
  },
  {
   "cell_type": "code",
   "execution_count": 44,
   "id": "d1fa50ec",
   "metadata": {},
   "outputs": [
    {
     "name": "stdout",
     "output_type": "stream",
     "text": [
      "{40, 50, 30}\n"
     ]
    }
   ],
   "source": [
    "set1 = {10, 20, 30, 40, 50}\n",
    "set2 = {30, 40, 50, 60, 70}\n",
    "\n",
    "print(set1.intersection(set2))"
   ]
  },
  {
   "cell_type": "markdown",
   "id": "79251db4",
   "metadata": {},
   "source": [
    "# 59. Get Only unique items from two sets"
   ]
  },
  {
   "cell_type": "code",
   "execution_count": 45,
   "id": "6b5eb40d",
   "metadata": {},
   "outputs": [
    {
     "name": "stdout",
     "output_type": "stream",
     "text": [
      "{70, 40, 10, 50, 20, 60, 30}\n"
     ]
    }
   ],
   "source": [
    "set1 = {10, 20, 30, 40, 50}\n",
    "set2 = {30, 40, 50, 60, 70}\n",
    "print(set1.union(set2))"
   ]
  },
  {
   "cell_type": "markdown",
   "id": "138bccad",
   "metadata": {},
   "source": [
    "# 60. Update the first set with items that don’t exist in the second set"
   ]
  },
  {
   "cell_type": "code",
   "execution_count": 46,
   "id": "4c814e6d",
   "metadata": {},
   "outputs": [
    {
     "name": "stdout",
     "output_type": "stream",
     "text": [
      "{10, 30}\n"
     ]
    }
   ],
   "source": [
    "set1 = {10, 20, 30}\n",
    "set2 = {20, 40, 50}\n",
    "set1.difference_update(set2)\n",
    "print(set1)"
   ]
  },
  {
   "cell_type": "markdown",
   "id": "a4d9d343",
   "metadata": {},
   "source": [
    "# 61. Remove items from the set at once"
   ]
  },
  {
   "cell_type": "code",
   "execution_count": 47,
   "id": "095c9f80",
   "metadata": {},
   "outputs": [
    {
     "name": "stdout",
     "output_type": "stream",
     "text": [
      "{50, 40}\n"
     ]
    }
   ],
   "source": [
    "set1 = {10, 20, 30, 40, 50}\n",
    "set1.difference_update({10, 20, 30})\n",
    "print(set1)"
   ]
  },
  {
   "cell_type": "markdown",
   "id": "ab680d49",
   "metadata": {},
   "source": [
    "# 62. Return a set of elements present in Set A or B, but not both"
   ]
  },
  {
   "cell_type": "code",
   "execution_count": null,
   "id": "0f79d56b",
   "metadata": {},
   "outputs": [],
   "source": [
    "set1 = {10, 20, 30, 40, 50}\n",
    "set2 = {30, 40, 50, 60, 70}\n",
    "\n",
    "print(set1.symmetric_difference(set2))"
   ]
  },
  {
   "cell_type": "markdown",
   "id": "74a1e860",
   "metadata": {},
   "source": [
    "# 63. Check if two sets have any elements in common. If yes, display the common elements"
   ]
  },
  {
   "cell_type": "code",
   "execution_count": 49,
   "id": "5473e98e",
   "metadata": {},
   "outputs": [
    {
     "name": "stdout",
     "output_type": "stream",
     "text": [
      "Two sets have items in common\n",
      "{10, 20}\n"
     ]
    }
   ],
   "source": [
    "set1 = {10, 20, 30, 40, 50}\n",
    "set2 = {60, 20, 80, 90, 10}\n",
    "\n",
    "if set1.isdisjoint(set2):\n",
    "  print(\"Two sets have no items in common\")\n",
    "else:\n",
    "  print(\"Two sets have items in common\")\n",
    "  print(set1.intersection(set2))"
   ]
  },
  {
   "cell_type": "markdown",
   "id": "3d93f54e",
   "metadata": {},
   "source": [
    "# 64. Update set1 by adding items from set2, except common items"
   ]
  },
  {
   "cell_type": "code",
   "execution_count": 50,
   "id": "19b30e4c",
   "metadata": {},
   "outputs": [
    {
     "name": "stdout",
     "output_type": "stream",
     "text": [
      "{20, 70, 10, 60}\n"
     ]
    }
   ],
   "source": [
    "set1 = {10, 20, 30, 40, 50}\n",
    "set2 = {30, 40, 50, 60, 70}\n",
    "set1.symmetric_difference_update(set2)\n",
    "print(set1)"
   ]
  },
  {
   "cell_type": "markdown",
   "id": "1f21f76c",
   "metadata": {},
   "source": [
    "# 65. Remove items from set1 that are not common to both set1 and set2"
   ]
  },
  {
   "cell_type": "code",
   "execution_count": 51,
   "id": "1a0271c2",
   "metadata": {},
   "outputs": [
    {
     "name": "stdout",
     "output_type": "stream",
     "text": [
      "{40, 50, 30}\n"
     ]
    }
   ],
   "source": [
    "set1 = {10, 20, 30, 40, 50}\n",
    "set2 = {30, 40, 50, 60, 70}\n",
    "\n",
    "set1.intersection_update(set2)\n",
    "print(set1)"
   ]
  },
  {
   "cell_type": "code",
   "execution_count": null,
   "id": "00ea716f",
   "metadata": {},
   "outputs": [],
   "source": []
  }
 ],
 "metadata": {
  "kernelspec": {
   "display_name": "Python 3 (ipykernel)",
   "language": "python",
   "name": "python3"
  },
  "language_info": {
   "codemirror_mode": {
    "name": "ipython",
    "version": 3
   },
   "file_extension": ".py",
   "mimetype": "text/x-python",
   "name": "python",
   "nbconvert_exporter": "python",
   "pygments_lexer": "ipython3",
   "version": "3.10.5"
  }
 },
 "nbformat": 4,
 "nbformat_minor": 5
}
