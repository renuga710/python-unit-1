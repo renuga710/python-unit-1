{
 "cells": [
  {
   "cell_type": "markdown",
   "id": "ab5c9f53",
   "metadata": {},
   "source": [
    "# 3. write a program to iterate the first 10 numbers and in sum of current and a previous number."
   ]
  },
  {
   "cell_type": "code",
   "execution_count": 1,
   "id": "4543b64e",
   "metadata": {},
   "outputs": [
    {
     "name": "stdout",
     "output_type": "stream",
     "text": [
      "Printing current and previous number and their sum in a range(10)\n",
      "Current Number 1 Previous Number  0  Sum:  1\n",
      "Current Number 2 Previous Number  1  Sum:  3\n",
      "Current Number 3 Previous Number  2  Sum:  5\n",
      "Current Number 4 Previous Number  3  Sum:  7\n",
      "Current Number 5 Previous Number  4  Sum:  9\n",
      "Current Number 6 Previous Number  5  Sum:  11\n",
      "Current Number 7 Previous Number  6  Sum:  13\n",
      "Current Number 8 Previous Number  7  Sum:  15\n",
      "Current Number 9 Previous Number  8  Sum:  17\n",
      "Current Number 10 Previous Number  9  Sum:  19\n"
     ]
    }
   ],
   "source": [
    "print(\"Printing current and previous number and their sum in a range(10)\")\n",
    "previous_num = 0\n",
    "for i in range(1, 11):\n",
    "    x_sum = previous_num + i\n",
    "    print(\"Current Number\", i, \"Previous Number \", previous_num, \" Sum: \", x_sum)\n",
    "    previous_num = i"
   ]
  },
  {
   "cell_type": "markdown",
   "id": "0709c8a0",
   "metadata": {},
   "source": [
    "# 4. Accept a string from the user and display the character that are present at an even index number."
   ]
  },
  {
   "cell_type": "code",
   "execution_count": 2,
   "id": "b0b1badf",
   "metadata": {},
   "outputs": [
    {
     "name": "stdout",
     "output_type": "stream",
     "text": [
      "Enter word programming in python\n",
      "Original String: programming in python\n",
      "Printing only even index chars\n",
      "index[ 0 ] p\n",
      "index[ 2 ] o\n",
      "index[ 4 ] r\n",
      "index[ 6 ] m\n",
      "index[ 8 ] i\n",
      "index[ 10 ] g\n",
      "index[ 12 ] i\n",
      "index[ 14 ]  \n",
      "index[ 16 ] y\n",
      "index[ 18 ] h\n"
     ]
    }
   ],
   "source": [
    "word = input('Enter word ')\n",
    "print(\"Original String:\", word)\n",
    "size = len(word)\n",
    "print(\"Printing only even index chars\")\n",
    "for i in range(0, size - 1, 2):\n",
    "    print(\"index[\", i, \"]\", word[i])"
   ]
  },
  {
   "cell_type": "markdown",
   "id": "e954fa79",
   "metadata": {},
   "source": [
    "# 6.Write a program to find how many times substring “is” appears in the given string."
   ]
  },
  {
   "cell_type": "code",
   "execution_count": 2,
   "id": "e074f56d",
   "metadata": {},
   "outputs": [
    {
     "name": "stdout",
     "output_type": "stream",
     "text": [
      "2\n"
     ]
    }
   ],
   "source": [
    "str_x = \"python is a high level language.it is dynamically typed.\"\n",
    "cnt = str_x.count(\"is\")\n",
    "print(cnt)"
   ]
  },
  {
   "cell_type": "markdown",
   "id": "11982424",
   "metadata": {},
   "source": [
    "# 11. Display three string “Name”, “Is”, “James” as “Name**Is**James”"
   ]
  },
  {
   "cell_type": "code",
   "execution_count": 11,
   "id": "c693bc5f",
   "metadata": {},
   "outputs": [
    {
     "name": "stdout",
     "output_type": "stream",
     "text": [
      "My**Name**Is**James\n"
     ]
    }
   ],
   "source": [
    "print('My', 'Name', 'Is', 'James', sep='**')"
   ]
  },
  {
   "cell_type": "markdown",
   "id": "c5d8f280",
   "metadata": {},
   "source": [
    "# 12. Convert Decimal number to octal and Display float number with 2 decimal places"
   ]
  },
  {
   "cell_type": "code",
   "execution_count": 16,
   "id": "0ce25117",
   "metadata": {},
   "outputs": [
    {
     "name": "stdout",
     "output_type": "stream",
     "text": [
      "decimal to octal:16\n",
      "flot no with 2 decimal no:4569.09\n"
     ]
    }
   ],
   "source": [
    "num = 14\n",
    "print(\"decimal to octal:\"'%o' % num)\n",
    "num = 4569.092344\n",
    "print(\"flot no with 2 decimal no:\"'%.2f' % num)"
   ]
  },
  {
   "cell_type": "markdown",
   "id": "7ebe0963",
   "metadata": {},
   "source": [
    "# 13. Accept a list of 5 float numbers as an input from the user"
   ]
  },
  {
   "cell_type": "code",
   "execution_count": 19,
   "id": "c8cbaa4d",
   "metadata": {},
   "outputs": [
    {
     "name": "stdout",
     "output_type": "stream",
     "text": [
      "Enter number at location 0 :\n",
      "8.9\n",
      "Enter number at location 1 :\n",
      "4.05\n",
      "Enter number at location 2 :\n",
      "1.222\n",
      "Enter number at location 3 :\n",
      "6.000\n",
      "Enter number at location 4 :\n",
      "5.87\n",
      "User List: [8.9, 4.05, 1.222, 6.0, 5.87]\n"
     ]
    }
   ],
   "source": [
    "numbers = []\n",
    "for i in range(0, 5):\n",
    "    print(\"Enter number at location\", i, \":\")\n",
    "    item = float(input())\n",
    "    numbers.append(item)\n",
    "print(\"User List:\", numbers)"
   ]
  },
  {
   "cell_type": "markdown",
   "id": "2fbe7a27",
   "metadata": {},
   "source": [
    "# 15. Format variables using a string.format() method."
   ]
  },
  {
   "cell_type": "code",
   "execution_count": 3,
   "id": "5323fe88",
   "metadata": {},
   "outputs": [
    {
     "name": "stdout",
     "output_type": "stream",
     "text": [
      "I have 250 rupees so I can buy 500 chocholate for 35.00 dollars.\n"
     ]
    }
   ],
   "source": [
    "quantity = 500\n",
    "totalMoney = 250\n",
    "price = 35\n",
    "statement1 = \"I have {1} rupees so I can buy {0} chocholate for {2:.2f} dollars.\"\n",
    "print(statement1.format(quantity, totalMoney, price))\n"
   ]
  },
  {
   "cell_type": "markdown",
   "id": "5a60245b",
   "metadata": {},
   "source": [
    "# 18.Print list in reverse order using a loop"
   ]
  },
  {
   "cell_type": "code",
   "execution_count": 6,
   "id": "52cb88ae",
   "metadata": {},
   "outputs": [
    {
     "name": "stdout",
     "output_type": "stream",
     "text": [
      "List before reverse :  [12, 52, 73, 41, 50]\n",
      "List after reverse :  [50, 41, 73, 52, 12]\n"
     ]
    }
   ],
   "source": [
    "original_list = [12,52,73,41,50]\n",
    "print(\"List before reverse : \",original_list)\n",
    "original_list.reverse()\n",
    "print(\"List after reverse : \",original_list)"
   ]
  },
  {
   "cell_type": "markdown",
   "id": "3b3f9209",
   "metadata": {},
   "source": [
    "# 19. Count the total number of digits in a number"
   ]
  },
  {
   "cell_type": "code",
   "execution_count": 11,
   "id": "85085e15",
   "metadata": {},
   "outputs": [
    {
     "name": "stdout",
     "output_type": "stream",
     "text": [
      "Total digits are: 13\n"
     ]
    }
   ],
   "source": [
    "num = 7586934561122\n",
    "count = 0\n",
    "while num != 0:\n",
    "    num = num // 10\n",
    "    count = count + 1\n",
    "print(\"Total digits are:\", count)"
   ]
  },
  {
   "cell_type": "markdown",
   "id": "d576aedb",
   "metadata": {},
   "source": [
    "# 22. Use a loop to display elements from a given list present at odd index positions"
   ]
  },
  {
   "cell_type": "code",
   "execution_count": 14,
   "id": "a105ff61",
   "metadata": {},
   "outputs": [
    {
     "name": "stdout",
     "output_type": "stream",
     "text": [
      "Elements of given array present on odd position: \n",
      "9\n",
      "12\n",
      "55\n",
      "93\n"
     ]
    }
   ],
   "source": [
    "arr = [9, 10, 12, 47, 55, 334,93,100];          \n",
    "print(\"Elements of given array present on odd position: \");        \n",
    "for i in range(0, len(arr), 2):    \n",
    "    print(arr[i]);     "
   ]
  },
  {
   "cell_type": "markdown",
   "id": "58b39799",
   "metadata": {},
   "source": [
    "# 26. Find all occurrences of a substring in a given string by ignoring the case"
   ]
  },
  {
   "cell_type": "code",
   "execution_count": 21,
   "id": "7bcf6ec7",
   "metadata": {},
   "outputs": [
    {
     "name": "stdout",
     "output_type": "stream",
     "text": [
      "The USA count is: 2\n"
     ]
    }
   ],
   "source": [
    "str1 = \"Welcome to USA. usa awesome, isn't it?\"\n",
    "sub_string = \"USA\"\n",
    "temp_str = str1.lower()\n",
    "count = temp_str.count(sub_string.lower())\n",
    "print(\"The USA count is:\", count)\n"
   ]
  },
  {
   "cell_type": "markdown",
   "id": "3c4f856f",
   "metadata": {},
   "source": [
    "# 27. Write a program to count occurrences of all characters within a string"
   ]
  },
  {
   "cell_type": "code",
   "execution_count": 26,
   "id": "5540e6aa",
   "metadata": {},
   "outputs": [
    {
     "name": "stdout",
     "output_type": "stream",
     "text": [
      "Result: {'r': 1, 'e': 2, 'n': 1, 'u': 1, 'g': 1, 'a': 1, 'd': 1, 'v': 1, 'i': 1}\n"
     ]
    }
   ],
   "source": [
    "str1 = \"renugadevi\"\n",
    "char_dict = dict()\n",
    "for char in str1:\n",
    "    count = str1.count(char)\n",
    "    char_dict[char] = count\n",
    "print('Result:', char_dict)\n"
   ]
  },
  {
   "cell_type": "markdown",
   "id": "ba2652e8",
   "metadata": {},
   "source": [
    "# 28. Reverse a list in Python"
   ]
  },
  {
   "cell_type": "code",
   "execution_count": 27,
   "id": "3715575e",
   "metadata": {},
   "outputs": [
    {
     "name": "stdout",
     "output_type": "stream",
     "text": [
      "[600, 490, 360, 250, 156]\n"
     ]
    }
   ],
   "source": [
    "list1 = [156, 250, 360, 490, 600]\n",
    "list1.reverse()\n",
    "print(list1)"
   ]
  },
  {
   "cell_type": "markdown",
   "id": "65153050",
   "metadata": {},
   "source": [
    "# 29. Concatenate two lists index-wise"
   ]
  },
  {
   "cell_type": "code",
   "execution_count": 29,
   "id": "57116116",
   "metadata": {},
   "outputs": [
    {
     "name": "stdout",
     "output_type": "stream",
     "text": [
      "['python', 'unit', 'one']\n"
     ]
    }
   ],
   "source": [
    "list1 = [\"pyt\", \"un\", \"on\"] \n",
    "list2 = [\"hon\", \"it\", \"e\"]\n",
    "list3 = [i + j for i, j in zip(list1, list2)]\n",
    "print(list3)"
   ]
  },
  {
   "cell_type": "markdown",
   "id": "1abf1aa7",
   "metadata": {},
   "source": [
    "# 30. Turn every item of a list into its square"
   ]
  },
  {
   "cell_type": "code",
   "execution_count": 31,
   "id": "3d1d13af",
   "metadata": {},
   "outputs": [
    {
     "name": "stdout",
     "output_type": "stream",
     "text": [
      "[25, 100, 169, 2025, 625, 36, 400]\n"
     ]
    }
   ],
   "source": [
    "numbers = [5, 10, 13, 45, 25, 6, 20]\n",
    "res = []\n",
    "for i in numbers:\n",
    "    res.append(i * i)\n",
    "print(res)"
   ]
  },
  {
   "cell_type": "markdown",
   "id": "766ee65f",
   "metadata": {},
   "source": [
    "# 31. Iterate two lists simultaneously"
   ]
  },
  {
   "cell_type": "code",
   "execution_count": 34,
   "id": "583700fc",
   "metadata": {},
   "outputs": [
    {
     "name": "stdout",
     "output_type": "stream",
     "text": [
      "150 400\n",
      "250 3000\n",
      "350 2000\n",
      "450 1000\n"
     ]
    }
   ],
   "source": [
    "list1 = [150, 250, 350, 450]\n",
    "list2 = [1000, 2000, 3000, 400]\n",
    "for x, y in zip(list1, list2[::-1]):\n",
    "    print(x, y)"
   ]
  },
  {
   "cell_type": "markdown",
   "id": "49ad009b",
   "metadata": {},
   "source": [
    "# 32. Remove empty strings from the list of strings"
   ]
  },
  {
   "cell_type": "code",
   "execution_count": 36,
   "id": "3d945e84",
   "metadata": {},
   "outputs": [
    {
     "name": "stdout",
     "output_type": "stream",
     "text": [
      "['programming', 'in', 'python']\n"
     ]
    }
   ],
   "source": [
    "list1 = [\"programming\", \"\", \"in\", \"python\"]\n",
    "res = list(filter(None, list1))\n",
    "print(res)\n"
   ]
  },
  {
   "cell_type": "markdown",
   "id": "3070351c",
   "metadata": {},
   "source": [
    "# 33. Add new item to list after a specified item"
   ]
  },
  {
   "cell_type": "code",
   "execution_count": 37,
   "id": "bd725bf0",
   "metadata": {},
   "outputs": [
    {
     "name": "stdout",
     "output_type": "stream",
     "text": [
      "[10, 20, [300, 400, [5000, 6000, 7000], 500], 30, 40]\n"
     ]
    }
   ],
   "source": [
    "list1 = [10, 20, [300, 400, [5000, 6000], 500], 30, 40]\n",
    "list1[2][2].append(7000)\n",
    "print(list1)"
   ]
  },
  {
   "cell_type": "markdown",
   "id": "97a73781",
   "metadata": {},
   "source": [
    "# 34. Extend nested list by adding the sublist"
   ]
  },
  {
   "cell_type": "code",
   "execution_count": 38,
   "id": "eb5dc6da",
   "metadata": {},
   "outputs": [
    {
     "name": "stdout",
     "output_type": "stream",
     "text": [
      "['a', 'b', ['c', ['d', 'e', ['f', 'g', 'h', 'i', 'j'], 'k'], 'l'], 'm', 'n']\n"
     ]
    }
   ],
   "source": [
    "list1 = [\"a\", \"b\", [\"c\", [\"d\", \"e\", [\"f\", \"g\"], \"k\"], \"l\"], \"m\", \"n\"]\n",
    "sub_list = [\"h\", \"i\", \"j\"]\n",
    "list1[2][1][2].extend(sub_list)\n",
    "print(list1)"
   ]
  },
  {
   "cell_type": "markdown",
   "id": "6f33e29a",
   "metadata": {},
   "source": [
    "# 35. Replace list’s item with new value if found"
   ]
  },
  {
   "cell_type": "code",
   "execution_count": null,
   "id": "c984fa3f",
   "metadata": {},
   "outputs": [],
   "source": [
    "list1 = [5, 10, 15, 20, 25, 50, 20]\n",
    "index = list1.index(20)\n",
    "list1[index] = 200\n",
    "print(list1)"
   ]
  },
  {
   "cell_type": "markdown",
   "id": "d62b2f92",
   "metadata": {},
   "source": [
    "# 36. Remove all occurrences of a specific item from a list."
   ]
  },
  {
   "cell_type": "code",
   "execution_count": 39,
   "id": "146f1785",
   "metadata": {},
   "outputs": [
    {
     "name": "stdout",
     "output_type": "stream",
     "text": [
      "[5, 15, 25, 50]\n"
     ]
    }
   ],
   "source": [
    "list1 = [5, 20, 15, 20, 25, 50, 20]\n",
    "while 20 in list1:\n",
    "    list1.remove(20)\n",
    "print(list1)"
   ]
  },
  {
   "cell_type": "markdown",
   "id": "313c988b",
   "metadata": {},
   "source": [
    "# 37. Convert two lists into a dictionary"
   ]
  },
  {
   "cell_type": "code",
   "execution_count": 40,
   "id": "153c2559",
   "metadata": {},
   "outputs": [
    {
     "name": "stdout",
     "output_type": "stream",
     "text": [
      "{'Ten': 10, 'Twenty': 20, 'Thirty': 30}\n"
     ]
    }
   ],
   "source": [
    "keys = ['Ten', 'Twenty', 'Thirty']\n",
    "values = [10, 20, 30]\n",
    "res_dict = dict(zip(keys, values))\n",
    "print(res_dict)"
   ]
  },
  {
   "cell_type": "code",
   "execution_count": null,
   "id": "94853810",
   "metadata": {},
   "outputs": [],
   "source": []
  }
 ],
 "metadata": {
  "kernelspec": {
   "display_name": "Python 3 (ipykernel)",
   "language": "python",
   "name": "python3"
  },
  "language_info": {
   "codemirror_mode": {
    "name": "ipython",
    "version": 3
   },
   "file_extension": ".py",
   "mimetype": "text/x-python",
   "name": "python",
   "nbconvert_exporter": "python",
   "pygments_lexer": "ipython3",
   "version": "3.10.5"
  }
 },
 "nbformat": 4,
 "nbformat_minor": 5
}
